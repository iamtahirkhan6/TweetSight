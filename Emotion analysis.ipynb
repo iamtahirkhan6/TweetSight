{
 "cells": [
  {
   "cell_type": "code",
   "execution_count": 1,
   "id": "0dad5c76",
   "metadata": {},
   "outputs": [
    {
     "name": "stdout",
     "output_type": "stream",
     "text": [
      "Collecting text2emotion\n",
      "  Downloading text2emotion-0.0.5-py3-none-any.whl (57 kB)\n",
      "Collecting emoji>=0.6.0\n",
      "  Downloading emoji-1.6.3.tar.gz (174 kB)\n",
      "Requirement already satisfied: nltk in c:\\users\\smrut\\anaconda\\lib\\site-packages (from text2emotion) (3.6.5)\n",
      "Requirement already satisfied: click in c:\\users\\smrut\\anaconda\\lib\\site-packages (from nltk->text2emotion) (8.0.3)\n",
      "Requirement already satisfied: joblib in c:\\users\\smrut\\anaconda\\lib\\site-packages (from nltk->text2emotion) (1.1.0)\n",
      "Requirement already satisfied: regex>=2021.8.3 in c:\\users\\smrut\\anaconda\\lib\\site-packages (from nltk->text2emotion) (2021.8.3)\n",
      "Requirement already satisfied: tqdm in c:\\users\\smrut\\anaconda\\lib\\site-packages (from nltk->text2emotion) (4.62.3)\n",
      "Requirement already satisfied: colorama in c:\\users\\smrut\\anaconda\\lib\\site-packages (from click->nltk->text2emotion) (0.4.4)\n",
      "Building wheels for collected packages: emoji\n",
      "  Building wheel for emoji (setup.py): started\n",
      "  Building wheel for emoji (setup.py): finished with status 'done'\n",
      "  Created wheel for emoji: filename=emoji-1.6.3-py3-none-any.whl size=170300 sha256=45c9c0f422603f5927f85586e4a43fea71130049b2108902beafd7a3649eac23\n",
      "  Stored in directory: c:\\users\\smrut\\appdata\\local\\pip\\cache\\wheels\\e5\\c7\\b3\\b62b7809b5ea6d22241a713d9cc05741d7edaec674b9d61cb7\n",
      "Successfully built emoji\n",
      "Installing collected packages: emoji, text2emotion\n",
      "Successfully installed emoji-1.6.3 text2emotion-0.0.5\n",
      "Note: you may need to restart the kernel to use updated packages.\n"
     ]
    }
   ],
   "source": [
    "pip install text2emotion"
   ]
  },
  {
   "cell_type": "code",
   "execution_count": 3,
   "id": "97c4d104",
   "metadata": {},
   "outputs": [],
   "source": [
    "import text2emotion as te"
   ]
  },
  {
   "cell_type": "code",
   "execution_count": 4,
   "id": "d690256a",
   "metadata": {},
   "outputs": [],
   "source": [
    "text = \"I was asked to sign a third party contract a week out from stay. If it wasn't an 8 person group that took a lot of wrangling I would have cancelled the booking straight away. Bathrooms - there are no stand alone bathrooms. Please consider this - you have to clear out the main bedroom to use that bathroom. Other option is you walk through a different bedroom to get to its en-suite. Signs all over the apartment - there are signs everywhere - some helpful - some telling you rules. Perhaps some people like this but It negatively affected our enjoyment of the accommodation.Stairs - lots of them - some had slightly bending wood which caused a minor injury.\""
   ]
  },
  {
   "cell_type": "code",
   "execution_count": 5,
   "id": "9139f524",
   "metadata": {},
   "outputs": [
    {
     "data": {
      "text/plain": [
       "{'Happy': 0.04, 'Angry': 0.12, 'Surprise': 0.08, 'Sad': 0.33, 'Fear': 0.42}"
      ]
     },
     "execution_count": 5,
     "metadata": {},
     "output_type": "execute_result"
    }
   ],
   "source": [
    "te.get_emotion(text)"
   ]
  },
  {
   "cell_type": "code",
   "execution_count": null,
   "id": "90d9bf94",
   "metadata": {},
   "outputs": [],
   "source": []
  }
 ],
 "metadata": {
  "kernelspec": {
   "display_name": "Python 3 (ipykernel)",
   "language": "python",
   "name": "python3"
  },
  "language_info": {
   "codemirror_mode": {
    "name": "ipython",
    "version": 3
   },
   "file_extension": ".py",
   "mimetype": "text/x-python",
   "name": "python",
   "nbconvert_exporter": "python",
   "pygments_lexer": "ipython3",
   "version": "3.9.7"
  }
 },
 "nbformat": 4,
 "nbformat_minor": 5
}
